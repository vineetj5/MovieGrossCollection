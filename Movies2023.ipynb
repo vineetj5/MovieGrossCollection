{
 "cells": [
  {
   "cell_type": "code",
   "execution_count": 2,
   "metadata": {},
   "outputs": [],
   "source": [
    "import pandas as pd\n",
    "import numpy as np\n",
    "import requests\n",
    "import re\n",
    "from bs4 import BeautifulSoup\n"
   ]
  },
  {
   "cell_type": "code",
   "execution_count": 9,
   "metadata": {},
   "outputs": [
    {
     "name": "stdout",
     "output_type": "stream",
     "text": [
      "27\n"
     ]
    }
   ],
   "source": [
    "\n",
    "# URL of the IMDb list\n",
    "url = \"https://www.imdb.com/list/ls562330283/\"\n",
    "\n",
    "# Define headers to mimic a real browser request\n",
    "headers = {\n",
    "    'User-Agent': 'Mozilla/5.0 (Windows NT 10.0; Win64; x64) AppleWebKit/537.36 (KHTML, like Gecko) Chrome/58.0.3029.110 Safari/537.3'\n",
    "}\n",
    "\n",
    "# Fetch the content of the URL with headers\n",
    "response = requests.get(url, headers=headers)\n",
    "\n",
    "# Check if the request was successful\n",
    "if response.status_code == 200:\n",
    "    # Parse the HTML content using BeautifulSoup\n",
    "    soup = BeautifulSoup(response.content, 'html')\n",
    "\n",
    "    # Extracting movie titles from the IMDb list\n",
    "    movies = soup.find_all('h3', class_='ipc-title__text')\n",
    "    Mlist = soup.find_all('li',class_='ipc-metadata-list-summary-item')\n",
    "    \n",
    "    movieHeaders = [movie.get_text() for movie in movies]  \n",
    "    pattern = r\"^[\\d.]+\\s*(.*)\"\n",
    "\n",
    "    matches=[]\n",
    "    for name in movieHeaders:\n",
    "        matches.append(re.findall(pattern,name))\n",
    "    print(len(matches))\n",
    "    \n",
    "else:\n",
    "    print(f\"Failed to retrieve content. Status code: {response.status_code}\")"
   ]
  },
  {
   "cell_type": "code",
   "execution_count": 4,
   "metadata": {},
   "outputs": [
    {
     "data": {
      "text/plain": [
       "[<div class=\"ipc-html-content-inner-div\" role=\"presentation\">The Indian films which collected a minimum of 20 crores worldwide are considered.<br/><br/>Note : Hollywood films only India Gross is included.</div>,\n",
       " <div class=\"ipc-html-content-inner-div\" role=\"presentation\">Language : Hindi<br/><br/>Budget : 285cr<br/><br/>First Day Collection Worldwide : 129.6cr<br/><br/>Worldwide Collection : 1150.7cr <br/><br/>Overseas Collection : 386.4cr <br/><br/>India Gross Collection : 764.3cr <br/><br/>Verdict : All Time Blockbuster<br/><br/>• Industry Hit in Hindi Cinema</div>,\n",
       " <div class=\"ipc-html-content-inner-div\" role=\"presentation\">Language : Hindi <br/><br/>Budget : 250cr<br/><br/>First Day Collection Worldwide : 104.8cr<br/><br/>Worldwide Collection : 1042.2cr <br/><br/>Overseas Collection : 393.4cr <br/><br/>India Gross Collection : 648.8cr <br/><br/>Verdict : All Time Blockbuster <br/><br/>• Industry Hit in Hindi Cinema</div>,\n",
       " <div class=\"ipc-html-content-inner-div\" role=\"presentation\">Language : Hindi<br/><br/>Budget : 140cr<br/><br/>First Day Collection Worldwide : 115.9cr<br/><br/>Worldwide Collection : 910.4cr <br/><br/>Overseas Collection : 250.6cr <br/><br/>India Gross Collection : 659.8cr <br/><br/>Verdict : Blockbuster </div>,\n",
       " <div class=\"ipc-html-content-inner-div\" role=\"presentation\">Language : Hindi<br/><br/>Budget : 80cr<br/><br/>First Day Collection Worldwide : 53.7cr<br/><br/>Worldwide Collection : 690.2cr <br/><br/>Overseas Collection : 65.5cr<br/><br/>India Gross Collection : 624.7cr <br/><br/>Verdict : Blockbuster</div>,\n",
       " <div class=\"ipc-html-content-inner-div\" role=\"presentation\">Language : Telugu<br/><br/>Budget : 250cr<br/><br/>First Day Collection Worldwide : 165.3cr<br/><br/>Worldwide Collection : 625.6cr <br/><br/>Overseas Collection : 137.8cr <br/><br/>India Gross Collection : 487.8cr <br/><br/>Verdict : Hit</div>,\n",
       " <div class=\"ipc-html-content-inner-div\" role=\"presentation\">Language : Tamil<br/><br/>Budget : 225cr<br/><br/>First Day Collection Worldwide : 142.8cr<br/><br/>Worldwide Collection : 615.6cr <br/><br/>Overseas Collection : 203.7cr <br/><br/>India Gross Collection : 411.9cr<br/><br/>Verdict : Blockbuster</div>,\n",
       " <div class=\"ipc-html-content-inner-div\" role=\"presentation\">Language : Tamil<br/><br/>Budget : 200cr<br/><br/>First Day Collection Worldwide : 91.2cr<br/><br/>Worldwide Collection : 605.8cr <br/><br/>Overseas Collection : 192.3cr <br/><br/>India Gross Collection : 413.5cr <br/><br/>Verdict : Blockbuster </div>,\n",
       " <div class=\"ipc-html-content-inner-div\" role=\"presentation\">Language : Hindi<br/><br/>Budget : 250cr<br/><br/>First Day Collection Worldwide : 94.8cr<br/><br/>Worldwide Collection : 466.4cr <br/><br/>Overseas Collection : 123.5cr <br/><br/>India Gross Collection : 342.9cr <br/><br/>Verdict : Hit</div>,\n",
       " <div class=\"ipc-html-content-inner-div\" role=\"presentation\">Language : Hindi<br/><br/>Budget : 175cr<br/><br/>First Day Collection Worldwide : 58.2cr<br/><br/>Worldwide Collection : 436.8cr <br/><br/>Overseas Collection : 195.6cr <br/><br/>India Gross Collection : 241.2cr <br/><br/>Verdict : Average </div>,\n",
       " <div class=\"ipc-html-content-inner-div\" role=\"presentation\">Language : Telugu<br/><br/>Budget : 375cr<br/><br/>First Day Collection Worldwide : 136.8cr<br/><br/>Worldwide Collection : 397.8cr<br/><br/>Overseas Collection : 52.3cr<br/><br/>India Gross Collection : 345.5cr<br/><br/>Verdict : Average</div>,\n",
       " <div class=\"ipc-html-content-inner-div\" role=\"presentation\">Language : Hindi<br/><br/>Budget : 150cr<br/><br/>First Day Collection Worldwide : 23.5cr<br/><br/>Worldwide Collection : 355.6cr<br/><br/>Overseas Collection : 172.8cr<br/><br/>India Gross Collection : 182.8cr<br/><br/>Verdict : Hit</div>,\n",
       " <div class=\"ipc-html-content-inner-div\" role=\"presentation\">Language : Tamil<br/><br/>Budget : 250cr<br/><br/>First Day Collection Worldwide : 64.5cr<br/><br/>Worldwide Collection : 343.5cr<br/><br/>Overseas Collection : 128.2cr<br/><br/>India Gross Collection : 215.3cr<br/><br/>Verdict : Hit</div>,\n",
       " <div class=\"ipc-html-content-inner-div\" role=\"presentation\">Language : Tamil<br/><br/>Budget : 175cr<br/><br/>First Day Collection Worldwide : 46.5cr<br/><br/>Worldwide Collection : 292.8cr <br/><br/>Overseas Collection : 87.3cr<br/><br/>India Gross Collection : 205.5cr <br/><br/>Verdict : Super Hit  </div>,\n",
       " <div class=\"ipc-html-content-inner-div\" role=\"presentation\">Language : Telugu<br/><br/>Budget : 125cr<br/><br/>First Day Collection Worldwide : 44.6cr<br/><br/>Worldwide Collection : 236.2cr <br/><br/>Overseas Collection : 28.7cr<br/><br/>India Gross Collection : 207.5cr <br/><br/>Verdict : Blockbuster </div>,\n",
       " <div class=\"ipc-html-content-inner-div\" role=\"presentation\">Language : Hindi<br/><br/>Budget : 25cr<br/><br/>First Day Collection Worldwide : 9.5cr<br/><br/>Worldwide Collection : 285.6cr<br/><br/>Overseas Collection : 15.8cr<br/><br/>India Gross Collection : 269.8cr <br/><br/>Verdict : Blockbuster</div>,\n",
       " <div class=\"ipc-html-content-inner-div\" role=\"presentation\">Language : Hindi<br/><br/>Budget : 95cr<br/><br/>First Day Collection Worldwide : 12.5cr<br/><br/>Worldwide Collection : 221.2cr <br/><br/>Overseas Collection : 42.4cr <br/><br/>India Gross Collection : 178.8cr <br/><br/>Verdict : Super Hit</div>,\n",
       " <div class=\"ipc-html-content-inner-div\" role=\"presentation\">Language : Tamil<br/><br/>Budget : 115cr<br/><br/>First Day Collection Worldwide : 39.6cr<br/><br/>Worldwide Collection : 196.8cr <br/><br/>Overseas Collection : 55.3cr <br/><br/>India Gross Collection : 141.5cr <br/><br/>Verdict : Hit</div>,\n",
       " <div class=\"ipc-html-content-inner-div\" role=\"presentation\">Language : Hindi<br/><br/>Budget : 90cr<br/><br/>First Day Collection Worldwide : 22.3cr<br/><br/>Worldwide Collection : 192.8cr <br/><br/>Overseas Collection : 47.4cr <br/><br/>India Gross Collection : 168.4cr <br/><br/>Verdict : Hit</div>,\n",
       " <div class=\"ipc-html-content-inner-div\" role=\"presentation\">Language : Hindi<br/><br/>Budget : 125cr<br/><br/>First Day Collection Worldwide : 26.3cr<br/><br/>Worldwide Collection : 182.5cr <br/><br/>Overseas Collection : 50.8cr<br/><br/>India Gross Collection : 131.7cr <br/><br/>Verdict : Average </div>,\n",
       " <div class=\"ipc-html-content-inner-div\" role=\"presentation\">Language : Malayalam <br/><br/>Budget : 15cr<br/><br/>First Day Collection Worldwide : 3.5cr<br/><br/>Worldwide Collection : 180.5cr <br/><br/>Overseas Collection : 67.8cr <br/><br/>India Gross Collection : 112.7cr<br/><br/>Verdict : All Time Blockbuster<br/><br/>• Industry Hit in Malayalam Cinema</div>,\n",
       " <div class=\"ipc-html-content-inner-div\" role=\"presentation\">Language : English<br/><br/>Budget : $100 million<br/><br/>First Day Collection India : 17.3cr<br/><br/>India Gross Collection : 157.5cr<br/><br/>India Net Collection : 131.8cr <br/><br/>Verdict : Super Hit</div>,\n",
       " <div class=\"ipc-html-content-inner-div\" role=\"presentation\">Language : Hindi<br/><br/>Budget : 65cr<br/><br/>First Day Collection Worldwide : 12.6cr<br/><br/>Worldwide Collection : 140.2cr <br/><br/>Overseas Collection : 15.6cr <br/><br/>India Gross Collection : 124.6cr <br/><br/>Verdict : Hit</div>,\n",
       " <div class=\"ipc-html-content-inner-div\" role=\"presentation\">Language : English<br/><br/>Budget : $380 million<br/><br/>First Day Collection India : 15.2cr<br/><br/>India Gross Collection : 134.2cr<br/><br/>India Net Collection : 109.8cr<br/><br/>Verdict : Super Hit</div>,\n",
       " <div class=\"ipc-html-content-inner-div\" role=\"presentation\">Language : English<br/><br/>Budget : $291 million<br/><br/>First Day Collection India : 14.5cr<br/><br/>India Gross Collection : 131.3cr<br/><br/>India Net Collection : 110.3cr<br/><br/>Verdict : Super Hit</div>,\n",
       " <div class=\"ipc-html-content-inner-div\" role=\"presentation\">Language : Telugu<br/><br/>Budget : 85cr <br/><br/>First Day Collection Worldwide : 50.2cr<br/><br/>Worldwide Collection : 130.7cr <br/><br/>Overseas Collection : 15.5cr <br/><br/>India Gross Collection : 115.2cr <br/><br/>Verdict : Hit </div>]"
      ]
     },
     "execution_count": 4,
     "metadata": {},
     "output_type": "execute_result"
    }
   ],
   "source": [
    "contetntList = [val for val in soup.find_all('div', class_='ipc-html-content-inner-div')[0::2]]\n",
    "contetntList"
   ]
  },
  {
   "cell_type": "code",
   "execution_count": 5,
   "metadata": {},
   "outputs": [
    {
     "data": {
      "text/plain": [
       "25"
      ]
     },
     "execution_count": 5,
     "metadata": {},
     "output_type": "execute_result"
    }
   ],
   "source": [
    "len(Mlist)"
   ]
  },
  {
   "cell_type": "code",
   "execution_count": 6,
   "metadata": {},
   "outputs": [
    {
     "data": {
      "text/plain": [
       "[<h3 class=\"ipc-title__text\">1. Jawan</h3>,\n",
       " <h3 class=\"ipc-title__text\">2. Pathaan</h3>,\n",
       " <h3 class=\"ipc-title__text\">3. Animal</h3>,\n",
       " <h3 class=\"ipc-title__text\">4. Gadar 2</h3>,\n",
       " <h3 class=\"ipc-title__text\">5. Salaar</h3>,\n",
       " <h3 class=\"ipc-title__text\">6. Leo</h3>,\n",
       " <h3 class=\"ipc-title__text\">7. Jailer</h3>,\n",
       " <h3 class=\"ipc-title__text\">8. Tiger 3</h3>,\n",
       " <h3 class=\"ipc-title__text\">9. Dunki</h3>,\n",
       " <h3 class=\"ipc-title__text\">10. Adipurush</h3>,\n",
       " <h3 class=\"ipc-title__text\">11. Rocky Aur Rani Kii Prem Kahaani</h3>,\n",
       " <h3 class=\"ipc-title__text\">12. Ponniyin Selvan: Part Two</h3>,\n",
       " <h3 class=\"ipc-title__text\">13. Varisu</h3>,\n",
       " <h3 class=\"ipc-title__text\">14. Waltair Veerayya</h3>,\n",
       " <h3 class=\"ipc-title__text\">15. The Kerala Story</h3>,\n",
       " <h3 class=\"ipc-title__text\">16. OMG 2</h3>,\n",
       " <h3 class=\"ipc-title__text\">17. Thunivu</h3>,\n",
       " <h3 class=\"ipc-title__text\">18. Tu Jhoothi Main Makkaar</h3>,\n",
       " <h3 class=\"ipc-title__text\">19. Kisi Ka Bhai Kisi Ki Jaan</h3>,\n",
       " <h3 class=\"ipc-title__text\">20. 2018</h3>,\n",
       " <h3 class=\"ipc-title__text\">21. Oppenheimer</h3>,\n",
       " <h3 class=\"ipc-title__text\">22. Dream Girl 2</h3>,\n",
       " <h3 class=\"ipc-title__text\">23. Fast X</h3>,\n",
       " <h3 class=\"ipc-title__text\">24. Mission: Impossible - Dead Reckoning Part One</h3>,\n",
       " <h3 class=\"ipc-title__text\">25. Veera Simha Reddy</h3>,\n",
       " <h3 class=\"ipc-title__text\">More to explore</h3>,\n",
       " <h3 class=\"ipc-title__text\">Recently viewed</h3>]"
      ]
     },
     "execution_count": 6,
     "metadata": {},
     "output_type": "execute_result"
    }
   ],
   "source": [
    "movies"
   ]
  },
  {
   "cell_type": "code",
   "execution_count": 7,
   "metadata": {},
   "outputs": [
    {
     "data": {
      "text/plain": [
       "<li aria-disabled=\"false\" class=\"ipc-list__item navlsl__item\" role=\"menuitem\" tabindex=\"0\"><span class=\"ipc-list-item__text\" role=\"presentation\"><div class=\"navlsl__itemTitle navlsl_icon\">Language</div><div class=\"navlsl__itemContent\">English (United States)</div></span><span class=\"ipc-list-item__icon ipc-list-item__icon--post\" role=\"presentation\"><svg class=\"ipc-icon ipc-icon--arrow-drop-down navlsl_icon\" fill=\"currentColor\" height=\"24\" role=\"presentation\" viewbox=\"0 0 24 24\" width=\"24\" xmlns=\"http://www.w3.org/2000/svg\"><path d=\"M0 0h24v24H0V0z\" fill=\"none\"></path><path d=\"M8.71 11.71l2.59 2.59c.39.39 1.02.39 1.41 0l2.59-2.59c.63-.63.18-1.71-.71-1.71H9.41c-.89 0-1.33 1.08-.7 1.71z\"></path></svg></span></li>"
      ]
     },
     "execution_count": 7,
     "metadata": {},
     "output_type": "execute_result"
    }
   ],
   "source": [
    "next_li_element = soup.find('li')\n",
    "next_li_element"
   ]
  }
 ],
 "metadata": {
  "kernelspec": {
   "display_name": "Python 3",
   "language": "python",
   "name": "python3"
  },
  "language_info": {
   "codemirror_mode": {
    "name": "ipython",
    "version": 3
   },
   "file_extension": ".py",
   "mimetype": "text/x-python",
   "name": "python",
   "nbconvert_exporter": "python",
   "pygments_lexer": "ipython3",
   "version": "3.12.5"
  }
 },
 "nbformat": 4,
 "nbformat_minor": 2
}
